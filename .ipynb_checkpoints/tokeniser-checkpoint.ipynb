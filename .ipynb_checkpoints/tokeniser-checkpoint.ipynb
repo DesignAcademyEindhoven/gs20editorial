{
 "cells": [
  {
   "cell_type": "markdown",
   "metadata": {},
   "source": [
    "### Import Google Spreadsheet"
   ]
  },
  {
   "cell_type": "code",
   "execution_count": 4,
   "metadata": {},
   "outputs": [
    {
     "name": "stdout",
     "output_type": "stream",
     "text": [
      "[<Worksheet 'Bachelor + Master' id:2056597316>, <Worksheet 'Master' id:0>, <Worksheet 'Bachelor' id:1109562875>]\n"
     ]
    }
   ],
   "source": [
    "import gspread\n",
    "from google.oauth2.service_account import Credentials\n",
    "scope = ['https://spreadsheets.google.com/feeds',\n",
    "         'https://www.googleapis.com/auth/drive']\n",
    "credentials = Credentials.from_service_account_file('./sheet-274815-b5805997d72c.json', scopes=scope)\n",
    "gc = gspread.authorize(credentials)\n",
    "sh = gc.open_by_url('https://docs.google.com/spreadsheets/d/1uUxI7ZwIO25GccHz_k6UNMtfvO6SwTuskNBdptV5vyw/edit?usp=sharing')\n",
    "worksheet_list = sh.worksheets()\n",
    "\n",
    "print(worksheet_list)"
   ]
  },
  {
   "cell_type": "markdown",
   "metadata": {},
   "source": [
    "### Select Degree"
   ]
  },
  {
   "cell_type": "code",
   "execution_count": 59,
   "metadata": {},
   "outputs": [
    {
     "name": "stdout",
     "output_type": "stream",
     "text": [
      "<Worksheet 'Bachelor + Master' id:2056597316>\n"
     ]
    }
   ],
   "source": [
    "degree = 'Bachelor + Master'\n",
    "sheet = sh.worksheet(degree)\n",
    "print(sheet)\n",
    "rows = sheet.get_all_values()"
   ]
  },
  {
   "cell_type": "markdown",
   "metadata": {},
   "source": [
    "### Create Dictionary"
   ]
  },
  {
   "cell_type": "code",
   "execution_count": 163,
   "metadata": {},
   "outputs": [
    {
     "name": "stdout",
     "output_type": "stream",
     "text": [
      "Done!\n"
     ]
    }
   ],
   "source": [
    "import time\n",
    "import string\n",
    "import json\n",
    "import glob\n",
    "import spacy\n",
    "from spacy import displacy\n",
    "\n",
    "nlp = spacy.load(\"en_core_web_sm\")\n",
    "\n",
    "dictionary = {}\n",
    "\n",
    "for i in range(1, len(rows)):\n",
    "    row = rows[i]\n",
    "    \n",
    "    try:\n",
    "        author = row[0] + ' ' + row[1]\n",
    "        course = row[2]\n",
    "        thesisTitle = row[3]\n",
    "        text = row[4]\n",
    "        doc = nlp(text)\n",
    "        \n",
    "        for sentence in doc.sents:\n",
    "            for token in sentence:\n",
    "                word = str(token).lower()\n",
    "                content = {\"title\": thesisTitle, \"course\": course ,  \"occurency\" : 1}\n",
    "                \n",
    "                if word in dictionary: \n",
    "                    if author in dictionary[word]:\n",
    "                        wordCount = int(dictionary[word][author][\"occurency\"])\n",
    "                        content = {\"title\": thesisTitle, \"course\": course ,  \"occurency\" : wordCount + 1}\n",
    "                        dictionary[word][author] =  content\n",
    "                        \n",
    "                        generalCount = int(dictionary[word][\"occurency\"])\n",
    "                        dictionary[word][\"occurency\"] =  generalCount + 1\n",
    "                        \n",
    "                    else:\n",
    "                        dictionary[word][author] =  content \n",
    "                        \n",
    "                        generalCount = int(dictionary[word][\"occurency\"])\n",
    "                        dictionary[word][\"occurency\"] =  generalCount + 1\n",
    "                else:\n",
    "                    dictionary[word] = { \"occurency\" : 1 , author : content}\n",
    "        \n",
    "    except Exception as e:\n",
    "        print(e)\n",
    "        break\n",
    "    \n",
    "\n",
    "output = open(\"./dictionary-\" + degree.lower() + \".json\", 'w')\n",
    "json.dump(dictionary, output)\n",
    "output.close()\n",
    "\n",
    "print(\"Done!\")"
   ]
  },
  {
   "cell_type": "code",
   "execution_count": 114,
   "metadata": {},
   "outputs": [
    {
     "name": "stdout",
     "output_type": "stream",
     "text": [
      "181 [({'title': 'Will you still remember me after I leave?'}, {'course': 'Contextual Design'})]\n"
     ]
    }
   ],
   "source": [
    "print(len(dictionary[\"the\"]), dictionary[\"the\"][\"Ying Chen\"])"
   ]
  }
 ],
 "metadata": {
  "kernelspec": {
   "display_name": "Python 3",
   "language": "python",
   "name": "python3"
  },
  "language_info": {
   "codemirror_mode": {
    "name": "ipython",
    "version": 3
   },
   "file_extension": ".py",
   "mimetype": "text/x-python",
   "name": "python",
   "nbconvert_exporter": "python",
   "pygments_lexer": "ipython3",
   "version": "3.8.5"
  }
 },
 "nbformat": 4,
 "nbformat_minor": 4
}
